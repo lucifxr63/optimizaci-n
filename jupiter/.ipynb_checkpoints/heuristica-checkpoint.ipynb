{
 "cells": [
  {
   "cell_type": "markdown",
   "metadata": {},
   "source": [
    "# Heur\u00edstica BMTSP\n",
    "Este notebook implementa una heur\u00edstica constructiva con mejora local para el Bounded Multiple Traveling Salesman Problem (BMTSP). Se usan los archivos CSV en `datos/` como conjunto de ciudades."
   ]
  },
  {
   "cell_type": "code",
   "metadata": {},
   "source": [
    "import csv\n",
    "import math\n",
    "import random\n",
    "from dataclasses import dataclass"
   ],
   "execution_count": null,
   "outputs": []
  },
  {
   "cell_type": "code",
   "metadata": {},
   "source": [
    "@dataclass\n",
    "class City:\n",
    "    idx: int\n",
    "    x: float\n",
    "    y: float\n\n",
    "    def distance_to(self, other: \"City\") -> float:\n",
    "        return math.hypot(self.x - other.x, self.y - other.y)"
   ],
   "execution_count": null,
   "outputs": []
  },
  {
   "cell_type": "code",
   "metadata": {},
   "source": [
    "def load_cities(path):\n",
    "    cities = []\n",
    "    with open(path, newline=\"\") as f:\n",
    "        reader = csv.DictReader(f)\n",
    "        for row in reader:\n",
    "            idx = int(row.get('id', row.get('idx')))\n",
    "            cities.append(City(idx, float(row['x']), float(row['y'])))\n",
    "    cities.sort(key=lambda c: c.idx)\n",
    "    return cities"
   ],
   "execution_count": null,
   "outputs": []
  },
  {
   "cell_type": "code",
   "metadata": {},
   "source": [
    "def nearest_neighbor_route(cities, start):\n",
    "    route = [start]\n",
    "    remaining = cities[:]\n",
    "    current = start\n",
    "    while remaining:\n",
    "        next_city = min(remaining, key=lambda c: current.distance_to(c))\n",
    "        route.append(next_city)\n",
    "        remaining.remove(next_city)\n",
    "        current = next_city\n",
    "    route.append(start)\n",
    "    return route"
   ],
   "execution_count": null,
   "outputs": []
  },
  {
   "cell_type": "code",
   "metadata": {},
   "source": [
    "def route_length(route):\n",
    "    return sum(route[i].distance_to(route[i+1]) for i in range(len(route)-1))"
   ],
   "execution_count": null,
   "outputs": []
  },
  {
   "cell_type": "code",
   "metadata": {},
   "source": [
    "def two_opt(route):\n",
    "    improved = True\n",
    "    best = route\n",
    "    while improved:\n",
    "        improved = False\n",
    "        for i in range(1, len(best) - 2):\n",
    "            for j in range(i + 1, len(best) - 1):\n",
    "                if j - i == 1:\n",
    "                    continue\n",
    "                new_route = best[:i] + best[i:j][::-1] + best[j:]\n",
    "                if route_length(new_route) < route_length(best):\n",
    "                    best = new_route\n",
    "                    improved = True\n",
    "        route = best\n",
    "    return best"
   ],
   "execution_count": null,
   "outputs": []
  },
  {
   "cell_type": "code",
   "metadata": {},
   "source": [
    "def assign_cities(cities, k, max_ciudades):\n",
    "    depot = cities[0]\n",
    "    others = cities[1:]\n",
    "    random.shuffle(others)\n",
    "    ass = [[] for _ in range(k)]\n",
    "    idx = 0\n",
    "    for city in others:\n",
    "        ass[idx % k].append(city)\n",
    "        idx += 1\n",
    "    for i in range(k):\n",
    "        ass[i] = ass[i][:max_ciudades]\n",
    "    return ass"
   ],
   "execution_count": null,
   "outputs": []
  },
  {
   "cell_type": "code",
   "metadata": {},
   "source": [
    "def heuristic_bmtsp(cities, k, max_ciudades):\n",
    "    depot = cities[0]\n",
    "    assignments = assign_cities(cities, k, max_ciudades)\n",
    "    routes = []\n",
    "    total_cost = 0.0\n",
    "    for assigned in assignments:\n",
    "        if not assigned:\n",
    "            routes.append([depot, depot])\n",
    "            continue\n",
    "        route = nearest_neighbor_route(assigned, depot)\n",
    "        route = two_opt(route)\n",
    "        routes.append(route)\n",
    "        total_cost += route_length(route)\n",
    "    return routes, total_cost"
   ],
   "execution_count": null,
   "outputs": []
  },
  {
   "cell_type": "code",
   "metadata": {},
   "source": [
    "# Ejemplo de ejecuci\u00f3n\n",
    "csv_path = 'datos/ciudades_pequeno.csv'\n",
    "k = 2\n",
    "max_ciudades = 5\n",
    "\n",
    "cities = load_cities(csv_path)\n",
    "routes, cost = heuristic_bmtsp(cities, k, max_ciudades)\n",
    "print(f'Costo total: {cost:.2f}')\n",
    "for i, route in enumerate(routes, 1):\n",
    "    print(f'Vendedor {i}:', ' -> '.join(str(c.idx) for c in route))"
   ],
   "execution_count": null,
   "outputs": []
  }
 ],
 "metadata": {
  "kernelspec": {
   "display_name": "Python 3",
   "language": "python",
   "name": "python3"
  },
  "language_info": {
   "name": "python",
   "version": "3.x"
  }
 },
 "nbformat": 4,
 "nbformat_minor": 4
}
