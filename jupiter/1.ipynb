{
 "cells": [
  {
   "cell_type": "markdown",
   "metadata": {},
   "source": [
    "# Heurística BMTSP\n",
    "Este notebook implementa una heurística constructiva con mejora local para el Bounded Multiple Traveling Salesman Problem (BMTSP). Se usan los archivos CSV en `datos/` como conjunto de ciudades."
   ]
  },
  {
   "cell_type": "code",
   "execution_count": 1,
   "metadata": {},
   "outputs": [],
   "source": [
    "import csv\n",
    "import math\n",
    "import random\n",
    "from dataclasses import dataclass"
   ]
  },
  {
   "cell_type": "code",
   "execution_count": 2,
   "metadata": {},
   "outputs": [],
   "source": [
    "@dataclass\n",
    "class City:\n",
    "    idx: int\n",
    "    x: float\n",
    "    y: float\n",
    "\n",
    "    def distance_to(self, other: \"City\") -> float:\n",
    "        return math.hypot(self.x - other.x, self.y - other.y)"
   ]
  },
  {
   "cell_type": "code",
   "execution_count": 3,
   "metadata": {},
   "outputs": [],
   "source": [
    "def load_cities(path):\n",
    "    cities = []\n",
    "    with open(path, newline=\"\") as f:\n",
    "        reader = csv.DictReader(f)\n",
    "        for row in reader:\n",
    "            idx = int(row.get('id', row.get('idx')))\n",
    "            cities.append(City(idx, float(row['x']), float(row['y'])))\n",
    "    cities.sort(key=lambda c: c.idx)\n",
    "    return cities"
   ]
  },
  {
   "cell_type": "code",
   "execution_count": 4,
   "metadata": {},
   "outputs": [],
   "source": [
    "def nearest_neighbor_route(cities, start):\n",
    "    route = [start]\n",
    "    remaining = cities[:]\n",
    "    current = start\n",
    "    while remaining:\n",
    "        next_city = min(remaining, key=lambda c: current.distance_to(c))\n",
    "        route.append(next_city)\n",
    "        remaining.remove(next_city)\n",
    "        current = next_city\n",
    "    route.append(start)\n",
    "    return route"
   ]
  },
  {
   "cell_type": "code",
   "execution_count": 5,
   "metadata": {},
   "outputs": [],
   "source": [
    "def route_length(route):\n",
    "    return sum(route[i].distance_to(route[i+1]) for i in range(len(route)-1))"
   ]
  },
  {
   "cell_type": "code",
   "execution_count": 6,
   "metadata": {},
   "outputs": [],
   "source": [
    "def two_opt(route):\n",
    "    improved = True\n",
    "    best = route\n",
    "    while improved:\n",
    "        improved = False\n",
    "        for i in range(1, len(best) - 2):\n",
    "            for j in range(i + 1, len(best) - 1):\n",
    "                if j - i == 1:\n",
    "                    continue\n",
    "                new_route = best[:i] + best[i:j][::-1] + best[j:]\n",
    "                if route_length(new_route) < route_length(best):\n",
    "                    best = new_route\n",
    "                    improved = True\n",
    "        route = best\n",
    "    return best"
   ]
  },
  {
   "cell_type": "code",
   "execution_count": 7,
   "metadata": {},
   "outputs": [],
   "source": [
    "def assign_cities(cities, k, max_ciudades):\n",
    "    depot = cities[0]\n",
    "    others = cities[1:]\n",
    "    random.shuffle(others)\n",
    "    ass = [[] for _ in range(k)]\n",
    "    idx = 0\n",
    "    for city in others:\n",
    "        ass[idx % k].append(city)\n",
    "        idx += 1\n",
    "    for i in range(k):\n",
    "        ass[i] = ass[i][:max_ciudades]\n",
    "    return ass"
   ]
  },
  {
   "cell_type": "code",
   "execution_count": 8,
   "metadata": {},
   "outputs": [],
   "source": [
    "def heuristic_bmtsp(cities, k, max_ciudades):\n",
    "    depot = cities[0]\n",
    "    assignments = assign_cities(cities, k, max_ciudades)\n",
    "    routes = []\n",
    "    total_cost = 0.0\n",
    "    for assigned in assignments:\n",
    "        if not assigned:\n",
    "            routes.append([depot, depot])\n",
    "            continue\n",
    "        route = nearest_neighbor_route(assigned, depot)\n",
    "        route = two_opt(route)\n",
    "        routes.append(route)\n",
    "        total_cost += route_length(route)\n",
    "    return routes, total_cost"
   ]
  },
  {
   "cell_type": "code",
   "execution_count": 9,
   "metadata": {},
   "outputs": [
    {
     "name": "stdout",
     "output_type": "stream",
     "text": [
      "Costo total: 276.35\n",
      "Vendedor 1: 0 -> 8 -> 9 -> 1 -> 5 -> 7 -> 0\n",
      "Vendedor 2: 0 -> 2 -> 3 -> 4 -> 6 -> 0\n"
     ]
    }
   ],
   "source": [
    "# Ejemplo de ejecución\n",
    "csv_path = 'datos/ciudades_pequeno.csv'\n",
    "k = 2\n",
    "max_ciudades = 5\n",
    "\n",
    "cities = load_cities(csv_path)\n",
    "routes, cost = heuristic_bmtsp(cities, k, max_ciudades)\n",
    "print(f'Costo total: {cost:.2f}')\n",
    "for i, route in enumerate(routes, 1):\n",
    "    print(f'Vendedor {i}:', ' -> '.join(str(c.idx) for c in route))"
   ]
  },
  {
   "cell_type": "code",
   "execution_count": 10,
   "metadata": {},
   "outputs": [],
   "source": [
    "import matplotlib.pyplot as plt\n",
    "from matplotlib.backends.backend_pdf import PdfPages"
   ]
  },
  {
   "cell_type": "code",
   "execution_count": 11,
   "metadata": {},
   "outputs": [],
   "source": [
    "def plot_routes(routes):\n",
    "    colors=[f'C{i}' for i in range(len(routes))]\n",
    "    fig, ax = plt.subplots()\n",
    "    for idx,(color,route) in enumerate(zip(colors, routes),1):\n",
    "        xs=[c.x for c in route]\n",
    "        ys=[c.y for c in route]\n",
    "        ax.plot(xs, ys, marker='o', color=color, label=f'Vendedor {idx}')\n",
    "    ax.set_title('Rutas generadas por la heurística')\n",
    "    ax.legend()\n",
    "    return fig"
   ]
  },
  {
   "cell_type": "code",
   "execution_count": 12,
   "metadata": {},
   "outputs": [
    {
     "data": {
      "image/png": "[encoded data removed]",
      "text/plain": [
       "<Figure size 640x480 with 1 Axes>"
      ]
     },
     "metadata": {},
     "output_type": "display_data"
    }
   ],
   "source": [
    "fig = plot_routes(routes)\n",
    "plt.show()\n",
    "fig.savefig('rutas.png')\n",
    "with PdfPages('informe.pdf') as pdf:\n",
    "    pdf.savefig(fig)\n",
    "    plt.close(fig)\n",
    "    fig2, ax2 = plt.subplots()\n",
    "    ax2.axis('off')\n",
    "    filas=[[i+1, len(r)-1, f'{route_length(r):.2f}'] for i,r in enumerate(routes)]\n",
    "    ax2.table(cellText=filas, colLabels=['Vendedor','# Ciudades','Distancia'], loc='center')\n",
    "    ax2.set_title(f'Costo total: {cost:.2f}')\n",
    "    pdf.savefig(fig2)\n",
    "    plt.close(fig2)\n"
   ]
  }
 ],
 "metadata": {
  "kernelspec": {
   "display_name": "Python 3 (ipykernel)",
   "language": "python",
   "name": "python3"
  },
  "language_info": {
   "codemirror_mode": {
    "name": "ipython",
    "version": 3
   },
   "file_extension": ".py",
   "mimetype": "text/x-python",
   "name": "python",
   "nbconvert_exporter": "python",
   "pygments_lexer": "ipython3",
   "version": "3.10.11"
  }
 },
 "nbformat": 4,
 "nbformat_minor": 4
}
